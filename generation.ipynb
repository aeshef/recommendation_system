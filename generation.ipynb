{
 "cells": [
  {
   "cell_type": "code",
   "execution_count": 3,
   "metadata": {},
   "outputs": [],
   "source": [
    "import pandas as pd\n",
    "import numpy as np\n",
    "import matplotlib.pyplot as plt\n",
    "import seaborn as sns\n",
    "import xgboost as xgb\n",
    "import warnings\n",
    "from sklearn.cluster import KMeans\n",
    "from scipy.spatial.distance import cdist\n",
    "from sklearn.metrics import mean_absolute_error, roc_auc_score\n",
    "from sklearn.ensemble import RandomForestRegressor\n",
    "from sklearn.cluster import KMeans\n",
    "from sklearn.preprocessing import StandardScaler\n",
    "from sklearn.decomposition import PCA\n",
    "from sklearn.model_selection import KFold, train_test_split"
   ]
  },
  {
   "cell_type": "code",
   "execution_count": 4,
   "metadata": {},
   "outputs": [],
   "source": [
    "members = pd.read_csv(\"/Users/artemshevchenko/Desktop/ВК_рек/kkbox-music-recommendation-challenge/members.csv\", delimiter=\",\")\n",
    "sample_submission = pd.read_csv(\"/Users/artemshevchenko/Desktop/ВК_рек/kkbox-music-recommendation-challenge/sample_submission.csv\")\n",
    "extra = pd.read_csv('/Users/artemshevchenko/Desktop/ВК_рек/kkbox-music-recommendation-challenge/song_extra_info.csv')\n",
    "songs = pd.read_csv(\"/Users/artemshevchenko/Desktop/ВК_рек/kkbox-music-recommendation-challenge/songs.csv\")\n",
    "test = pd.read_csv(\"/Users/artemshevchenko/Desktop/ВК_рек/kkbox-music-recommendation-challenge/test.csv\")\n",
    "train = pd.read_csv('/Users/artemshevchenko/Desktop/ВК_рек/kkbox-music-recommendation-challenge/train.csv')\n",
    "\n",
    "train_target = train[\"target\"]\n",
    "train.drop([\"target\"], axis=1, inplace=True)\n",
    "train_target.to_csv('/Users/artemshevchenko/Desktop/ВК_рек/kkbox-music-recommendation-challenge/train_target.csv', index=False)\n",
    "\n",
    "test.drop([\"id\"], axis=1, inplace=True)"
   ]
  },
  {
   "cell_type": "code",
   "execution_count": 5,
   "metadata": {},
   "outputs": [],
   "source": [
    "songs = songs.merge(extra, on='song_id', how='left', suffixes=('', '_extra'))"
   ]
  },
  {
   "cell_type": "markdown",
   "metadata": {},
   "source": [
    "## Генерация признаков"
   ]
  },
  {
   "cell_type": "markdown",
   "metadata": {},
   "source": [
    "Заметим, что в датасете songs есть фича isrc - проведя минуту в гугле, я узнал, что это международный индивидуальный код для звукозаписей, который можно воспринимать как идентификатор. Так, в нём (на 5 и 6 позиции) содерждится и год создания звукозаписи."
   ]
  },
  {
   "cell_type": "code",
   "execution_count": 6,
   "metadata": {},
   "outputs": [],
   "source": [
    "def year_generating(isrc):\n",
    "    if str(isrc) == isrc:\n",
    "        if int(isrc[5:7]) <= 17:\n",
    "            return 2000 + int(isrc[5:7])\n",
    "        else:\n",
    "            return 1900 + int(isrc[5:7])\n",
    "    else:\n",
    "        return \"NaN\""
   ]
  },
  {
   "cell_type": "code",
   "execution_count": 7,
   "metadata": {},
   "outputs": [],
   "source": [
    "songs['song_year'] = songs['isrc'].apply(year_generating)\n",
    "\n",
    "train = train.merge(songs, on = 'song_id', how = 'left')\n",
    "test = test.merge(songs, on = 'song_id', how = 'left')\n",
    "\n",
    "train.drop([\"isrc\"], axis=1, inplace=True)\n",
    "test.drop([\"isrc\"], axis=1, inplace=True)"
   ]
  },
  {
   "cell_type": "markdown",
   "metadata": {},
   "source": [
    "Посчитаем, сколько раз каждая песня прослушивалась, и добавим соответствующий признак num_of_times_played в train и test"
   ]
  },
  {
   "cell_type": "code",
   "execution_count": 8,
   "metadata": {},
   "outputs": [],
   "source": [
    "dict_count_song_played_train = {idd: times for idd, times in train['song_id'].value_counts().iteritems()}\n",
    "dict_count_song_played_test = {idd: times for idd, times in test['song_id'].value_counts().iteritems()}\n",
    "\n",
    "def num_played(x):\n",
    "    try:\n",
    "        return dict_count_song_played_train[x]\n",
    "    except KeyError:\n",
    "        try:\n",
    "            return dict_count_song_played_test[x]\n",
    "        except KeyError:\n",
    "            return 0\n",
    "        \n",
    "train['num_played'] = train['song_id'].apply(lambda x: num_played(x))\n",
    "test['num_played'] = test['song_id'].apply(lambda x: num_played(x))"
   ]
  },
  {
   "cell_type": "markdown",
   "metadata": {},
   "source": [
    "Теперь рассмотрим активность каждого юзера по отдельности - в train и test выборках за индентификацию юзеров отвечает \"msno\""
   ]
  },
  {
   "cell_type": "code",
   "execution_count": 9,
   "metadata": {},
   "outputs": [],
   "source": [
    "dict_user_activity = {idd :times for idd,times in pd.concat([train['msno'] , test['msno']] , axis = 0).value_counts().iteritems()}\n",
    "\n",
    "def return_user_activity(x):\n",
    "    try:\n",
    "        return dict_user_activity[x]\n",
    "    except KeyError:\n",
    "        return 0\n",
    "    \n",
    "train['user_activity_msno'] = train['msno'].apply(lambda x: return_user_activity(x))\n",
    "test['user_activity_msno'] = test['msno'].apply(lambda x: return_user_activity(x))"
   ]
  },
  {
   "cell_type": "markdown",
   "metadata": {},
   "source": [
    "Даты регистрации и экспирации даны нам в строковом формате без разделяющих знаков - сгенерируем на их основе несколько дополнительных признаков, касающихся дня, месяца и года соответствующих событий. Они будут полезны для EDA и аналитики касательно активности пользоваталей в зависимости от времени регистрации."
   ]
  },
  {
   "cell_type": "code",
   "execution_count": 10,
   "metadata": {},
   "outputs": [],
   "source": [
    "members['registration_year'] = members['registration_init_time'].apply(lambda x: int(str(x)[:4]))\n",
    "members['expiration_year'] = members['expiration_date'].apply(lambda x: int(str(x)[:4]))\n",
    "members[\"registration_month\"] = members['registration_init_time'].apply(lambda x: int(str(x)[4:6]))\n",
    "members[\"expiration_month\"] = members['expiration_date'].apply(lambda x: int(str(x)[4:6]))\n",
    "members[\"registration_day\"] = members['registration_init_time'].apply(lambda x: int(str(x)[6:]))\n",
    "members[\"expiration_day\"] = members['expiration_date'].apply(lambda x: int(str(x)[6:]))"
   ]
  },
  {
   "cell_type": "markdown",
   "metadata": {},
   "source": [
    "Сгенерируем ещё один признак на основе этих дат - длительность пользования сервисом."
   ]
  },
  {
   "cell_type": "code",
   "execution_count": 11,
   "metadata": {},
   "outputs": [],
   "source": [
    "def add_subscription_duration(users_data):\n",
    "    members['registration_init_time'] = pd.to_datetime(members['registration_init_time'], format='%Y%m%d')\n",
    "    members['expiration_date'] = pd.to_datetime(members['expiration_date'], format='%Y%m%d')\n",
    "    users_data['duration'] = (users_data['expiration_date'] - users_data['registration_init_time']).dt.days\n",
    "\n",
    "add_subscription_duration(members)"
   ]
  },
  {
   "cell_type": "markdown",
   "metadata": {},
   "source": [
    "В members содержится несколько полезных дополнительных признаков, касающихся юзеров - смёрджим их с трейном и тестом по юзерайди"
   ]
  },
  {
   "cell_type": "code",
   "execution_count": 12,
   "metadata": {},
   "outputs": [],
   "source": [
    "members.drop([\"registration_init_time\", \"expiration_date\"], axis=1, inplace=True)\n",
    "train = train.merge(members, on='msno', how='left')\n",
    "test = test.merge(members, on='msno', how='left')"
   ]
  },
  {
   "cell_type": "markdown",
   "metadata": {},
   "source": [
    "Признак фита (совместной песни) также будет уместен для рекомендации пользователю. Рекомендации было бы полезно выстроить и с опорой на то, что человек, любящий творчество артиста A, нередко оценит и его совместную композицию с артистом B, однако для построения такой базовой логики в модели потребуются огромные вычислительные мощности, связанные с генерацией множества бинарных признаков."
   ]
  },
  {
   "cell_type": "code",
   "execution_count": 13,
   "metadata": {},
   "outputs": [],
   "source": [
    "def is_featured(x):\n",
    "    if 'feat' in str(x) :\n",
    "        return 1\n",
    "    else:  \n",
    "        return 0\n",
    "\n",
    "train['is_featured'] = train['artist_name'].apply(is_featured)\n",
    "test['is_featured'] = test['artist_name'].apply(is_featured)"
   ]
  },
  {
   "cell_type": "markdown",
   "metadata": {},
   "source": [
    "Из длительности песни так же можно сгенерировать некоторые признаки - например, сравни длину каждой песни со средней по датасету, создав бинарный признак на этой основе."
   ]
  },
  {
   "cell_type": "code",
   "execution_count": 14,
   "metadata": {},
   "outputs": [],
   "source": [
    "def smaller_song(x):\n",
    "    if x < avg_song_length:\n",
    "        return 1\n",
    "    else:\n",
    "        return 0\n",
    "\n",
    "avg_song_length = np.mean(train['song_length'])\n",
    "\n",
    "train['smaller_song'] = train['song_length'].apply(smaller_song)\n",
    "test['smaller_song'] = test['song_length'].apply(smaller_song)\n",
    "\n",
    "train[\"song_length\"] = train[\"song_length\"] / 1000\n",
    "test[\"song_length\"] = test[\"song_length\"] / 1000"
   ]
  },
  {
   "cell_type": "markdown",
   "metadata": {},
   "source": [
    "Полезно будет и иметь представление о популярности артиста - так, если он имеет много прослушиваний, то его можно смело рекомендовать новым пользователям."
   ]
  },
  {
   "cell_type": "code",
   "execution_count": 15,
   "metadata": {},
   "outputs": [],
   "source": [
    "count_artist_played_train = {idd: times for idd, times in train['artist_name'].value_counts().iteritems()}\n",
    "count_artist_played_test = {idd: times for idd, times in test['artist_name'].value_counts().iteritems()}\n",
    "\n",
    "def count_artist_played(x):\n",
    "    try:\n",
    "        return count_artist_played_train[x]\n",
    "    except KeyError:\n",
    "        try:\n",
    "            return count_artist_played_test[x]\n",
    "        except KeyError:\n",
    "            return 0\n",
    "        \n",
    "train['count_artist_played'] = train['artist_name'].apply(count_artist_played)\n",
    "test['count_artist_played'] = test['artist_name'].apply(count_artist_played)"
   ]
  },
  {
   "cell_type": "markdown",
   "metadata": {},
   "source": [
    "Добавим признак для трека по количеству жанров, которым он принадлежит. Аналогично сделаем с количеством композиторов и исполнителей:"
   ]
  },
  {
   "cell_type": "code",
   "execution_count": 16,
   "metadata": {},
   "outputs": [],
   "source": [
    "def genre_id_count(x):\n",
    "    if pd.isnull(x):\n",
    "        return 0\n",
    "    else:\n",
    "        return x.count('|') + 1\n",
    "    \n",
    "def composer_count(x):\n",
    "    if pd.isnull(x):\n",
    "        return 0\n",
    "    else:\n",
    "        x_str = str(x) \n",
    "        return sum(map(x_str.count, ['|', '/', '\\\\', ';'])) + 1\n",
    "\n",
    "train['composer_count'] = train['composer'].apply(composer_count)\n",
    "test['composer_count'] = test['composer'].apply(composer_count)\n",
    "\n",
    "train['genre_ids_count'] = train['genre_ids'].apply(genre_id_count)\n",
    "test['genre_ids_count'] = test['genre_ids'].apply(genre_id_count)\n"
   ]
  },
  {
   "cell_type": "markdown",
   "metadata": {},
   "source": [
    "Немного изучив датасет можно понять, что 52.0 - код английского языка. Сделаем бинарный признак, показывающий, на английском ли языке песня."
   ]
  },
  {
   "cell_type": "code",
   "execution_count": 17,
   "metadata": {},
   "outputs": [],
   "source": [
    "def language_song(x):\n",
    "    if '17.0' in str(x) or '52.0' in str(x):\n",
    "        return 1\n",
    "    return 0\n",
    "\n",
    "train['is_52'] = train['language'].apply(language_song)\n",
    "test['is_52'] = test['language'].apply(language_song)\n"
   ]
  },
  {
   "cell_type": "markdown",
   "metadata": {},
   "source": [
    "Попробуем сгруппировать слушателей по косвенным признакам - активности, месту, возрасту, времени нахождения на сервисе. Сгенерируем на основе принадлежности к той или иной группе кластер-признак. Предварительно стандартизуем данные для работы k-средних."
   ]
  },
  {
   "cell_type": "code",
   "execution_count": 18,
   "metadata": {},
   "outputs": [
    {
     "data": {
      "image/png": "[encoded data removed]",
      "text/plain": [
       "<Figure size 720x432 with 1 Axes>"
      ]
     },
     "metadata": {
      "needs_background": "light"
     },
     "output_type": "display_data"
    }
   ],
   "source": [
    "user_features = train[['user_activity_msno', 'city', 'bd', 'duration']]\n",
    "\n",
    "scaler = StandardScaler()\n",
    "scaled_user_features = scaler.fit_transform(user_features)\n",
    "\n",
    "kmeans = KMeans(n_clusters=4, random_state=42)\n",
    "train['user_cluster'] = kmeans.fit_predict(scaled_user_features) + 1\n",
    "test_scaled_user_features = scaler.transform(test[['user_activity_msno', 'city', 'bd', 'duration']])\n",
    "test['user_cluster'] = kmeans.predict(test_scaled_user_features) + 1\n",
    "\n",
    "pca = PCA(n_components=2)\n",
    "user_features_pca = pca.fit_transform(scaled_user_features)\n",
    "\n",
    "cluster_labels = kmeans.labels_\n",
    "\n",
    "plt.figure(figsize=(10, 6))\n",
    "for cluster in range(4):\n",
    "    plt.scatter(user_features_pca[cluster_labels == cluster, 0], \n",
    "                user_features_pca[cluster_labels == cluster, 1], \n",
    "                label=f'Cluster {cluster + 1}')\n",
    "\n",
    "plt.title('User Clusters Visualization')\n",
    "plt.xlabel('Principal Component 1')\n",
    "plt.ylabel('Principal Component 2')\n",
    "plt.legend()\n",
    "plt.grid(True)\n",
    "plt.show()"
   ]
  },
  {
   "cell_type": "markdown",
   "metadata": {},
   "source": [
    "## Сохраняем результаты обработки датасета"
   ]
  },
  {
   "cell_type": "code",
   "execution_count": 19,
   "metadata": {},
   "outputs": [],
   "source": [
    "train.to_csv('/Users/artemshevchenko/Desktop/ВК_рек/kkbox-music-recommendation-challenge/train_after_gen.csv', index=False)\n",
    "test.to_csv('/Users/artemshevchenko/Desktop/ВК_рек/kkbox-music-recommendation-challenge/test_after_gen.csv', index=False)"
   ]
  }
 ],
 "metadata": {
  "kernelspec": {
   "display_name": "base",
   "language": "python",
   "name": "python3"
  },
  "language_info": {
   "codemirror_mode": {
    "name": "ipython",
    "version": 3
   },
   "file_extension": ".py",
   "mimetype": "text/x-python",
   "name": "python",
   "nbconvert_exporter": "python",
   "pygments_lexer": "ipython3",
   "version": "3.9.12"
  }
 },
 "nbformat": 4,
 "nbformat_minor": 2
}
