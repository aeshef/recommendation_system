{
 "cells": [
  {
   "cell_type": "code",
   "execution_count": null,
   "metadata": {},
   "outputs": [],
   "source": [
    "import pandas as pd\n",
    "import numpy as np\n",
    "import matplotlib.pyplot as plt\n",
    "import seaborn as sns\n",
    "import xgboost as xgb\n",
    "import warnings\n",
    "from sklearn.cluster import KMeans\n",
    "from scipy.spatial.distance import cdist\n",
    "from sklearn.metrics import mean_absolute_error, roc_auc_score\n",
    "from sklearn.ensemble import RandomForestRegressor\n",
    "from sklearn.cluster import KMeans\n",
    "from sklearn.preprocessing import StandardScaler\n",
    "from sklearn.decomposition import PCA\n",
    "from sklearn.model_selection import KFold, train_test_split\n",
    "from sklearn.preprocessing import OneHotEncoder\n",
    "from sklearn.compose import ColumnTransformer\n",
    "from sklearn.pipeline import Pipeline\n",
    "from sklearn.impute import SimpleImputer\n",
    "from sklearn.linear_model import LogisticRegression"
   ]
  },
  {
   "cell_type": "code",
   "execution_count": null,
   "metadata": {},
   "outputs": [],
   "source": [
    "train.read_csv('/Users/artemshevchenko/Desktop/ВК_рек/kkbox-music-recommendation-challenge/train_after_gen.csv', index=False)\n",
    "test.read_csv('/Users/artemshevchenko/Desktop/ВК_рек/kkbox-music-recommendation-challenge/test_after_gen.csv', index=False)"
   ]
  },
  {
   "cell_type": "markdown",
   "metadata": {},
   "source": [
    "## EDA"
   ]
  },
  {
   "cell_type": "markdown",
   "metadata": {},
   "source": [
    "Для начала, разметим данные по категориям."
   ]
  },
  {
   "cell_type": "code",
   "execution_count": null,
   "metadata": {},
   "outputs": [],
   "source": [
    "def type_optimization(df):\n",
    "    for feature in df.columns:\n",
    "        if df[feature].dtype == 'str': \n",
    "            df[feature] = df[feature].astype('category')\n",
    "        elif df[feature].nunique() == 2:\n",
    "            df[feature] = train[feature].astype('category')\n",
    "        elif df[feature].dtype == 'int64':\n",
    "            df[feature] = df[feature].astype('int')\n",
    "        elif df[feature].dtype == 'float64':\n",
    "            df[feature] = df[feature].astype('float')  \n",
    "            \n",
    "type_optimization(train)\n",
    "type_optimization(test)\n",
    "\n",
    "continitous_features = [feature for feature, dtype in train.dtypes.items() if dtype == \"int\" or dtype == \"float\"]\n",
    "categorical_features = [feature for feature, dtype in train.dtypes.items() if dtype == \"category\"]\n"
   ]
  },
  {
   "cell_type": "markdown",
   "metadata": {},
   "source": [
    "Рассмотрим распределение признаков 'source_system_tab', 'source_screen_name' и 'source_type'"
   ]
  },
  {
   "cell_type": "code",
   "execution_count": null,
   "metadata": {},
   "outputs": [],
   "source": [
    "plt.figure(figsize=(8, 6))\n",
    "train['source_system_tab'].value_counts().sort_index().plot(kind='bar', color='#636EFA')\n",
    "plt.title('source_system_tab distribution')\n",
    "plt.xlabel('source_system_tab')\n",
    "plt.ylabel('frequency')\n",
    "plt.xticks(rotation=45)\n",
    "plt.show()"
   ]
  },
  {
   "cell_type": "code",
   "execution_count": null,
   "metadata": {},
   "outputs": [],
   "source": [
    "plt.figure(figsize=(8, 6))\n",
    "train['source_screen_name'].value_counts().sort_index().plot(kind='bar', color='#636EFA')\n",
    "plt.title('source_screen_name distribution')\n",
    "plt.xlabel('source_screen_name')\n",
    "plt.ylabel('frequency')\n",
    "plt.xticks(rotation=45)\n",
    "plt.show()"
   ]
  },
  {
   "cell_type": "markdown",
   "metadata": {},
   "source": [
    "Видно, что основная часть пользователей начинает прослушивание трека с собственной медиатеки - доверие собственным вкусам и радость при прослушивании знакомых и полюбившихся треков вытесняет желание пробовать что-то новое."
   ]
  },
  {
   "cell_type": "code",
   "execution_count": null,
   "metadata": {},
   "outputs": [],
   "source": [
    "plt.figure(figsize=(8, 6))\n",
    "train['source_type'].value_counts().sort_index().plot(kind='bar', color='#636EFA')\n",
    "plt.title('source_type distribution')\n",
    "plt.xlabel('source_type')\n",
    "plt.ylabel('frequency')\n",
    "plt.xticks(rotation=45)\n",
    "plt.show()"
   ]
  },
  {
   "cell_type": "markdown",
   "metadata": {},
   "source": [
    "Однако на этом графике заметно и то, что пользователи пользуются my-daily-playlist (что, я полагаю, есть сгенерированные стримингом плейлисты на основе изучения вкусов юзера) почти так же часто, как собственной библиотекой. Этот график отвечает на вопрос о важности рекоммендаций в современных стриминговых платформах."
   ]
  },
  {
   "cell_type": "code",
   "execution_count": null,
   "metadata": {},
   "outputs": [],
   "source": [
    "plt.figure(figsize=(10, 6))\n",
    "plt.hist(train[train['song_length'] < 500]['song_length'], bins=30, color='skyblue', edgecolor='black')\n",
    "plt.title('Distribution of Song Lengths')\n",
    "plt.xlabel('Song Length (seconds)')\n",
    "plt.ylabel('Frequency')\n",
    "plt.grid(True)\n",
    "plt.show()"
   ]
  },
  {
   "cell_type": "markdown",
   "metadata": {},
   "source": [
    "Распределение длины песен в выборки отвечает нормальному с выборочным средним около 240 секунд (~4 минут). Интересный результат, поскольку в эпоху фастфудного потребления контента люди стаи более склонны слушать более короткие треки (нередко не достигающие и 3 минут)."
   ]
  },
  {
   "cell_type": "code",
   "execution_count": null,
   "metadata": {},
   "outputs": [],
   "source": [
    "genre_lists = train['genre_ids'].astype(str).str.split('|')\n",
    "all_genres = [genre for sublist in genre_lists for genre in sublist]\n",
    "genre_counts = pd.Series(all_genres).value_counts()\n",
    "genre_counts_sorted = genre_counts.sort_values(ascending=False)\n",
    "filtered_genre_counts = genre_counts_sorted[genre_counts_sorted > 0.001]\n",
    "plt.figure(figsize=(14, 6))\n",
    "filtered_genre_counts.plot(kind='bar', color='salmon')\n",
    "plt.yscale('log')\n",
    "plt.title('Frequency of Individual Music Genres')\n",
    "plt.xlabel('Genre')\n",
    "plt.ylabel('Frequency (log scale)')\n",
    "plt.xticks(rotation=90, fontsize=5)\n",
    "plt.grid(axis='y')\n",
    "plt.show()"
   ]
  },
  {
   "cell_type": "markdown",
   "metadata": {},
   "source": [
    "Жанры - ещё одна большая тема для исследования. Так как одна песня может относиться к нескольким жанрам, то значение genre_ids у песни может выглядеть как 4313/43/1 ведь, к сожалению, предоставленные стримингом жанры были закодированы в числовые данные. При наличии строковых их названий можно было бы провести генерацию признаков на основе существующих в открытом доступе эмбеддингов для кластеризации жанров по музыкальной схожести. "
   ]
  },
  {
   "cell_type": "code",
   "execution_count": null,
   "metadata": {},
   "outputs": [],
   "source": [
    "plt.figure(figsize=(10, 6))\n",
    "plt.hist(train['num_played'], bins=30, color='lightgreen', edgecolor='black')\n",
    "plt.title('Distribution of User Activity')\n",
    "plt.xlabel('Number of Song Plays')\n",
    "plt.ylabel('Frequency')\n",
    "plt.grid(True)\n",
    "plt.show()"
   ]
  },
  {
   "cell_type": "markdown",
   "metadata": {},
   "source": [
    "Здесь можно заметить убывающий характер зависимости количества прослушиваний у каждой отдельной песни от количества различных юзеров, что её прослушивали в выборке. "
   ]
  },
  {
   "cell_type": "code",
   "execution_count": null,
   "metadata": {},
   "outputs": [],
   "source": [
    "plt.figure(figsize=(6, 6))\n",
    "sns.scatterplot(x='song_length', y='num_played', data=train)\n",
    "plt.title('Number of Plays vs Song Length')\n",
    "plt.xlabel('Song Length')\n",
    "plt.ylabel('Number of Plays')\n",
    "plt.xlim(0, 1000)\n",
    "plt.show()"
   ]
  },
  {
   "cell_type": "markdown",
   "metadata": {},
   "source": [
    "На диаграмме рассеяния можно заметить зависимости между количеством прослушивания трека и его длиной - более всего переслушивать предпочитают треки около матожидания распределения song_length, то есть 240."
   ]
  },
  {
   "cell_type": "code",
   "execution_count": null,
   "metadata": {},
   "outputs": [],
   "source": [
    "train_copy = train.copy()\n",
    "train_copy = train_copy[train_copy['song_year'] != 'Unknown']\n",
    "\n",
    "plt.figure(figsize=(8, 8))\n",
    "sns.scatterplot(x='song_length', y='song_year', data=train_copy)\n",
    "plt.title('Song Year vs Song Length')\n",
    "plt.xlabel('Song Length')\n",
    "plt.xlim(0, 3000)\n",
    "plt.ylim(1915, 2020)\n",
    "plt.ylabel('Song Year')\n",
    "plt.show()"
   ]
  },
  {
   "cell_type": "markdown",
   "metadata": {},
   "source": [
    "Эти данные интересны с точки зрения исторической справки для аналитики - заметим, что в наши дни стало больше треков аномальной длины - так как это стриминг, можно предположить, что это подкасты. Однако это можно связать и с большим разнообразием ранородных музыкальных произведений в наши дни и простоту загрузки их на стриминги. \n",
    "Интересно и просмотреть на тенденцию того, как в тяжелые для мира времена в 1930-1950 года длительность песен сконцентрировалось около 250 секунд - эжто может быть связано как с тем, что произведения того периода выгружали на стриминги очень выборочно, так и с тем, что в период войны была наибольшая концентрация песен, акцентирующих внимание на патриотизме, национальной идентичности, подбодрении духа (которые в виду формата могли бы требовать не очень большой продолжительности)."
   ]
  },
  {
   "cell_type": "markdown",
   "metadata": {},
   "source": [
    "А здесь представлены данные по пользовательской активности в зависимости от города - к сожалению, данные о геолокации пользователя так же представлены в закодированном формате, но это не помешает нам посмотреть на ящик с усами, медианы по разным городам, на города-музыкальные лидеры и на выбросы."
   ]
  },
  {
   "cell_type": "code",
   "execution_count": null,
   "metadata": {},
   "outputs": [],
   "source": [
    "plt.figure(figsize=(10, 6))\n",
    "sns.boxplot(x='city', y='user_activity_msno', data=train)\n",
    "plt.title('User Activity vs City')\n",
    "plt.xlabel('City')\n",
    "plt.ylabel('User Activity (msno)')\n",
    "plt.show()"
   ]
  },
  {
   "cell_type": "markdown",
   "metadata": {},
   "source": [
    "И последний график относится к зависимости пользовательской активности от года регистрации. Так, гипотеза заключается в том, что недавно зарегестрироавшиеся пользователи более активны на сервисе. Так, она косвенно подтверждается данными."
   ]
  },
  {
   "cell_type": "code",
   "execution_count": null,
   "metadata": {},
   "outputs": [],
   "source": [
    "train_numeric = train[['registration_year', 'user_activity_msno']].copy()\n",
    "train_numeric = train_numeric.dropna(subset=['registration_year'])\n",
    "train_numeric['user_activity_msno'] = pd.to_numeric(train_numeric['user_activity_msno'], errors='coerce')\n",
    "train_numeric = train_numeric.dropna(subset=['user_activity_msno'])\n",
    "unique_years = train_numeric['registration_year'].unique()\n",
    "unique_years.sort()\n",
    "\n",
    "bins = [year - 0.5 for year in unique_years]\n",
    "bins.append(unique_years[-1] + 0.5)\n",
    "\n",
    "plt.figure(figsize=(10, 6))\n",
    "plt.hist(x='registration_year', bins=bins, weights='user_activity_msno', data=train_numeric)\n",
    "plt.title('User Activity vs Registration Year')\n",
    "plt.xlabel('Registration Year')\n",
    "plt.ylabel('User Activity (msno)')\n",
    "plt.xticks(unique_years)\n",
    "plt.show()\n"
   ]
  }
 ],
 "metadata": {
  "kernelspec": {
   "display_name": "base",
   "language": "python",
   "name": "python3"
  },
  "language_info": {
   "codemirror_mode": {
    "name": "ipython",
    "version": 3
   },
   "file_extension": ".py",
   "mimetype": "text/x-python",
   "name": "python",
   "nbconvert_exporter": "python",
   "pygments_lexer": "ipython3",
   "version": "3.9.12"
  }
 },
 "nbformat": 4,
 "nbformat_minor": 2
}
