{
 "cells": [
  {
   "cell_type": "code",
   "execution_count": 1,
   "metadata": {},
   "outputs": [],
   "source": [
    "import pandas as pd\n",
    "import numpy as np\n",
    "import matplotlib.pyplot as plt\n",
    "import seaborn as sns\n",
    "import xgboost as xgb\n",
    "import warnings\n",
    "from sklearn.cluster import KMeans\n",
    "from scipy.spatial.distance import cdist\n",
    "from sklearn.metrics import mean_absolute_error, roc_auc_score\n",
    "from sklearn.ensemble import RandomForestRegressor\n",
    "from sklearn.cluster import KMeans\n",
    "from sklearn.preprocessing import StandardScaler\n",
    "from sklearn.decomposition import PCA\n",
    "from sklearn.model_selection import KFold, train_test_split\n",
    "from sklearn.preprocessing import OneHotEncoder\n",
    "from sklearn.compose import ColumnTransformer\n",
    "from sklearn.pipeline import Pipeline\n",
    "from sklearn.impute import SimpleImputer\n",
    "from sklearn.linear_model import LogisticRegression"
   ]
  },
  {
   "cell_type": "code",
   "execution_count": 4,
   "metadata": {},
   "outputs": [],
   "source": [
    "train = pd.read_csv('/Users/artemshevchenko/Desktop/ВК_рек/kkbox-music-recommendation-challenge/train_after_gen.csv',)\n",
    "test = pd.read_csv('/Users/artemshevchenko/Desktop/ВК_рек/kkbox-music-recommendation-challenge/test_after_gen.csv')\n",
    "train_target = pd.read_csv('/Users/artemshevchenko/Desktop/ВК_рек/kkbox-music-recommendation-challenge/train_target.csv')"
   ]
  },
  {
   "cell_type": "markdown",
   "metadata": {},
   "source": [
    "## Алгоритмическое заполнение пропущенных значений:"
   ]
  },
  {
   "cell_type": "markdown",
   "metadata": {},
   "source": [
    "Начнём с содержательной части, связанной с обучением различных моделей для заполнения пропущенных данных на основе имеющейся информации."
   ]
  },
  {
   "cell_type": "markdown",
   "metadata": {},
   "source": [
    "Перейдём к рассмотрению аудитории сервиса: так как более 40% выборки составляют люди с неуказанным гендером, проиллюстрируем два графика. Первый из них отражает зависимости частоты прослушиваний от пола и возраста юзера."
   ]
  },
  {
   "cell_type": "code",
   "execution_count": 3,
   "metadata": {},
   "outputs": [],
   "source": [
    "plt.figure(figsize=(10, 6))\n",
    "train['bd'][(train['gender'] == 'male') & (train['bd'] > 0) & (train['bd'] <= 100)].plot(kind='hist', bins=30, color='lightblue', edgecolor='black', alpha=0.5, label='Male')\n",
    "train['bd'][(train['gender'] == 'female') & (train['bd'] > 0) & (train['bd'] <= 100)].plot(kind='hist', bins=30, color='lightcoral', edgecolor='black', alpha=0.5, label='Female')\n",
    "plt.title('Distribution of User Age and Gender')\n",
    "plt.xlabel('Age')\n",
    "plt.ylabel('Frequency')\n",
    "plt.legend()\n",
    "plt.xticks(range(0, 101, 5))\n",
    "plt.grid(True)\n",
    "plt.show()"
   ]
  },
  {
   "cell_type": "code",
   "execution_count": 4,
   "metadata": {},
   "outputs": [],
   "source": [
    "plt.figure(figsize=(10, 6))\n",
    "train['bd'][(train['gender'] == 'Unknown') & (train['bd'] > 0) & (train['bd'] <= 100)].plot(kind='hist', bins=30, color='lightcoral', edgecolor='black', alpha=0.5, label='Unknown')\n",
    "plt.title('Distribution of User Age and Gender')\n",
    "plt.xlabel('Age')\n",
    "plt.ylabel('Frequency')\n",
    "plt.legend()\n",
    "plt.xticks(range(0, 101, 5))\n",
    "plt.grid(True)\n",
    "plt.show()"
   ]
  },
  {
   "cell_type": "markdown",
   "metadata": {},
   "source": [
    "Заметим, что распределение мужчин, женщин и лиц без указанного гендера почти идентично. Зная это, попробуем научить алгоритм классификации обучить по всем прочим признакам понимать какой юзер перед ним - мужчина или женщина, и заполним соответствующие пропуски в данных"
   ]
  },
  {
   "cell_type": "code",
   "execution_count": 5,
   "metadata": {},
   "outputs": [],
   "source": [
    "train_known = train[train['gender'] != 'Unknown']\n",
    "X_train = train_known.drop(columns=['gender'])\n",
    "y_train = train_known['gender']\n",
    "\n",
    "numerical_features = X_train.select_dtypes(include=['int64', 'float64']).columns\n",
    "categorical_features = X_train.select_dtypes(include=['category']).columns\n",
    "\n",
    "numeric_transformer = Pipeline(steps=[\n",
    "    ('imputer', SimpleImputer(strategy='median')),\n",
    "    ('scaler', StandardScaler())])\n",
    "\n",
    "categorical_transformer = Pipeline(steps=[\n",
    "    ('imputer', SimpleImputer(strategy='constant', fill_value='missing')),\n",
    "    ('onehot', OneHotEncoder(handle_unknown='ignore'))])\n",
    "\n",
    "preprocessor = ColumnTransformer(\n",
    "    transformers=[\n",
    "        ('num', numeric_transformer, numerical_features),\n",
    "        ('cat', categorical_transformer, categorical_features)])\n",
    "\n",
    "clf = Pipeline(steps=[('preprocessor', preprocessor),\n",
    "                      ('classifier', LogisticRegression())])\n",
    "\n",
    "clf.fit(X_train, y_train)\n",
    "\n",
    "train_unknown = train[train['gender'] == 'Unknown']\n",
    "X_train_unknown = train_unknown.drop(columns=['gender'])\n",
    "train_pred = clf.predict(X_train_unknown)\n",
    "\n",
    "train.loc[train['gender'] == 'Unknown', 'gender'] = train_pred\n",
    "\n",
    "test_known = test[test['gender'] != 'Unknown']\n",
    "X_test = test_known.drop(columns=['gender'])\n",
    "y_test = test_known['gender']\n",
    "\n",
    "clf.fit(X_test, y_test)\n",
    "\n",
    "test_unknown = test[test['gender'] == 'Unknown']\n",
    "X_test_unknown = test_unknown.drop(columns=['gender'])\n",
    "test_pred = clf.predict(X_test_unknown)\n",
    "\n",
    "test.loc[test['gender'] == 'Unknown', 'gender'] = test_pred\n"
   ]
  },
  {
   "cell_type": "markdown",
   "metadata": {},
   "source": [
    "Посмотрим получившиеся распределение на наличие выбросов; сравним с прежду полученным."
   ]
  },
  {
   "cell_type": "code",
   "execution_count": 6,
   "metadata": {},
   "outputs": [],
   "source": [
    "plt.figure(figsize=(10, 6))\n",
    "train['bd'][(train['gender'] == 'male') & (train['bd'] > 0) & (train['bd'] <= 100)].plot(kind='hist', bins=30, color='lightblue', edgecolor='black', alpha=0.5, label='Male')\n",
    "train['bd'][(train['gender'] == 'female') & (train['bd'] > 0) & (train['bd'] <= 100)].plot(kind='hist', bins=30, color='lightcoral', edgecolor='black', alpha=0.5, label='Female')\n",
    "plt.title('Distribution of User Age and Gender')\n",
    "plt.xlabel('Age')\n",
    "plt.ylabel('Frequency')\n",
    "plt.legend()\n",
    "plt.xticks(range(0, 101, 5))\n",
    "plt.grid(True)\n",
    "plt.show()"
   ]
  },
  {
   "cell_type": "markdown",
   "metadata": {},
   "source": [
    "## Эксперимент"
   ]
  },
  {
   "cell_type": "markdown",
   "metadata": {},
   "source": [
    "## Заполнение остальных пропущенных значений:"
   ]
  },
  {
   "cell_type": "markdown",
   "metadata": {},
   "source": [
    "Основная часть пропущенных значений содержится в категориальных переменных - было бы странно заполнять пропущенные значения в artist_name, например, самым встречающимся. Заполним основную часть строками со значением \"Unknown\", но где-то оставим 0 (если неизвестна длина песни и язык)"
   ]
  },
  {
   "cell_type": "code",
   "execution_count": null,
   "metadata": {},
   "outputs": [],
   "source": [
    "train.source_system_tab.fillna(\"Unknown\", inplace = True)\n",
    "test.source_system_tab.fillna(\"Unknown\", inplace = True)\n",
    "\n",
    "train.source_screen_name.fillna(\"Unknown\", inplace = True)\n",
    "test.source_screen_name.fillna(\"Unknown\", inplace = True)\n",
    "\n",
    "train.source_type.fillna(\"Unknown\", inplace = True)\n",
    "test.source_type.fillna(\"Unknown\", inplace = True)\n",
    "\n",
    "train.song_length.fillna(0, inplace = True)\n",
    "test.song_length.fillna(0, inplace = True)\n",
    "\n",
    "train.genre_ids.fillna(\"Unknown\", inplace = True)\n",
    "test.genre_ids.fillna(\"Unknown\", inplace = True)\n",
    "\n",
    "train.artist_name.fillna(\"Unknown\", inplace = True)\n",
    "test.artist_name.fillna(\"Unknown\", inplace = True)\n",
    "\n",
    "train.composer.fillna(\"Unknown\", inplace = True)\n",
    "test.composer.fillna(\"Unknown\", inplace = True)\n",
    "\n",
    "train.lyricist.fillna(\"Unknown\", inplace = True)\n",
    "test.lyricist.fillna(\"Unknown\", inplace = True)\n",
    "\n",
    "train.language.fillna(0, inplace = True)\n",
    "test.language.fillna(0, inplace = True)\n",
    "\n",
    "train.name.fillna(\"Unknown\", inplace = True)\n",
    "test.name.fillna(\"Unknown\", inplace = True)\n",
    "\n",
    "train.song_year.fillna(\"Unknown\", inplace = True)\n",
    "test.song_year.fillna(\"Unknown\",inplace = True)\n",
    "\n",
    "train.gender.fillna(\"Unknown\",inplace = True)\n",
    "test.gender.fillna(\"Unknown\",inplace = True)\n",
    "\n",
    "train.registered_via.fillna(\"Unknown\",inplace = True)\n",
    "test.registered_via.fillna(\"Unknown\",inplace = True)"
   ]
  },
  {
   "cell_type": "markdown",
   "metadata": {},
   "source": [
    "## Сохраняем результаты обработки датасета"
   ]
  },
  {
   "cell_type": "code",
   "execution_count": null,
   "metadata": {},
   "outputs": [],
   "source": [
    "train.to_csv('/Users/artemshevchenko/Desktop/ВК_рек/kkbox-music-recommendation-challenge/train_for_train.csv', index=False)\n",
    "test.to_csv('/Users/artemshevchenko/Desktop/ВК_рек/kkbox-music-recommendation-challenge/test_for_train.csv', index=False)\n",
    "train_target.to_csv('/Users/artemshevchenko/Desktop/ВК_рек/kkbox-music-recommendation-challenge/train_target_for_train.csv', index=False)"
   ]
  }
 ],
 "metadata": {
  "kernelspec": {
   "display_name": "base",
   "language": "python",
   "name": "python3"
  },
  "language_info": {
   "codemirror_mode": {
    "name": "ipython",
    "version": 3
   },
   "file_extension": ".py",
   "mimetype": "text/x-python",
   "name": "python",
   "nbconvert_exporter": "python",
   "pygments_lexer": "ipython3",
   "version": "3.9.12"
  }
 },
 "nbformat": 4,
 "nbformat_minor": 2
}
